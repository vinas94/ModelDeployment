{
 "cells": [
  {
   "cell_type": "code",
   "execution_count": 1,
   "id": "196eb093-d43d-4634-8408-638ea9069220",
   "metadata": {},
   "outputs": [],
   "source": [
    "import json\n",
    "import requests\n",
    "import numpy as np\n",
    "import pandas as pd\n",
    "from sklearn.model_selection import train_test_split"
   ]
  },
  {
   "cell_type": "code",
   "execution_count": 2,
   "id": "37d4eb76-0bf4-4437-8d33-e8b421c25ea7",
   "metadata": {},
   "outputs": [],
   "source": [
    "# Loading the data and separating target from the features\n",
    "df = pd.read_csv('./data/Dry_Bean_Dataset.csv', encoding= 'unicode_escape')\n",
    "y = df['Class']\n",
    "X = df.drop('Class', axis=1)"
   ]
  },
  {
   "cell_type": "code",
   "execution_count": 3,
   "id": "70258b86-463c-4ae0-80f9-8261fdf6f6ae",
   "metadata": {},
   "outputs": [],
   "source": [
    "# Splitting the data to training and test sets\n",
    "X_train, X_test, y_train, y_test = train_test_split(X, y, test_size=0.3, random_state=17)"
   ]
  },
  {
   "cell_type": "code",
   "execution_count": 4,
   "id": "ecf922ab-7b5b-4bc4-b33b-654c2c17a2a2",
   "metadata": {},
   "outputs": [],
   "source": [
    "# Defining app address and the payload to predict\n",
    "url = 'http://localhost:5000/predict'\n",
    "payload = {'data': json.dumps(np.array(X_test)[:20].tolist())}\n",
    "payload['store'] = 'ss'"
   ]
  },
  {
   "cell_type": "code",
   "execution_count": 5,
   "metadata": {},
   "outputs": [],
   "source": [
    "payload = {'data': json.dumps(np.round(np.array(X_test)[:1], 2).tolist())}\n",
    "payload['store'] = False"
   ]
  },
  {
   "cell_type": "code",
   "execution_count": 6,
   "id": "80bbb989-3d9b-4f0c-8b8d-de98a93d63e8",
   "metadata": {},
   "outputs": [
    {
     "name": "stdout",
     "output_type": "stream",
     "text": [
      "<Response [200]>\n",
      "{'predictions': '[\"DERMASON\"]'}\n"
     ]
    }
   ],
   "source": [
    "# Accessing the API and retrieving a response\n",
    "response = requests.post(url, json=payload)\n",
    "print(response)\n",
    "print(json.loads(response.content))"
   ]
  },
  {
   "cell_type": "code",
   "execution_count": null,
   "metadata": {},
   "outputs": [],
   "source": []
  }
 ],
 "metadata": {
  "interpreter": {
   "hash": "31f2aee4e71d21fbe5cf8b01ff0e069b9275f58929596ceb00d14d90e3e16cd6"
  },
  "kernelspec": {
   "display_name": "Python 3.8.10 64-bit",
   "name": "python3"
  },
  "language_info": {
   "codemirror_mode": {
    "name": "ipython",
    "version": 3
   },
   "file_extension": ".py",
   "mimetype": "text/x-python",
   "name": "python",
   "nbconvert_exporter": "python",
   "pygments_lexer": "ipython3",
   "version": "3.8.10"
  }
 },
 "nbformat": 4,
 "nbformat_minor": 5
}
